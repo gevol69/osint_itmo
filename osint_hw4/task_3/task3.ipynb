{
 "metadata": {
  "language_info": {
   "codemirror_mode": {
    "name": "ipython",
    "version": 3
   },
   "file_extension": ".py",
   "mimetype": "text/x-python",
   "name": "python",
   "nbconvert_exporter": "python",
   "pygments_lexer": "ipython3",
   "version": "3.7.7-final"
  },
  "orig_nbformat": 2,
  "kernelspec": {
   "name": "python3",
   "display_name": "Python 3"
  }
 },
 "nbformat": 4,
 "nbformat_minor": 2,
 "cells": [
  {
   "source": [
    "## Строим графики для данных из первых двух тасков"
   ],
   "cell_type": "markdown",
   "metadata": {}
  },
  {
   "source": [
    "### График для данных из файла user_3_task1.log"
   ],
   "cell_type": "markdown",
   "metadata": {}
  },
  {
   "source": [
    "#### Так выглядят данные user_3_task1.log в dataframe"
   ],
   "cell_type": "markdown",
   "metadata": {}
  },
  {
   "cell_type": "code",
   "execution_count": 7,
   "metadata": {},
   "outputs": [
    {
     "output_type": "execute_result",
     "data": {
      "text/plain": [
       "              date      time  is_online\n",
       "0       2020-09-25  14:01:54      False\n",
       "1       2020-09-25  14:01:59      False\n",
       "2       2020-09-25  14:02:04      False\n",
       "3       2020-09-25  14:02:09      False\n",
       "4       2020-09-25  14:02:14      False\n",
       "...            ...       ...        ...\n",
       "362874  2020-10-16  14:01:24      False\n",
       "362875  2020-10-16  14:01:29      False\n",
       "362876  2020-10-16  14:01:34      False\n",
       "362877  2020-10-16  14:01:39      False\n",
       "362878  2020-10-16  14:01:44      False\n",
       "\n",
       "[362879 rows x 3 columns]"
      ],
      "text/html": "<div>\n<style scoped>\n    .dataframe tbody tr th:only-of-type {\n        vertical-align: middle;\n    }\n\n    .dataframe tbody tr th {\n        vertical-align: top;\n    }\n\n    .dataframe thead th {\n        text-align: right;\n    }\n</style>\n<table border=\"1\" class=\"dataframe\">\n  <thead>\n    <tr style=\"text-align: right;\">\n      <th></th>\n      <th>date</th>\n      <th>time</th>\n      <th>is_online</th>\n    </tr>\n  </thead>\n  <tbody>\n    <tr>\n      <th>0</th>\n      <td>2020-09-25</td>\n      <td>14:01:54</td>\n      <td>False</td>\n    </tr>\n    <tr>\n      <th>1</th>\n      <td>2020-09-25</td>\n      <td>14:01:59</td>\n      <td>False</td>\n    </tr>\n    <tr>\n      <th>2</th>\n      <td>2020-09-25</td>\n      <td>14:02:04</td>\n      <td>False</td>\n    </tr>\n    <tr>\n      <th>3</th>\n      <td>2020-09-25</td>\n      <td>14:02:09</td>\n      <td>False</td>\n    </tr>\n    <tr>\n      <th>4</th>\n      <td>2020-09-25</td>\n      <td>14:02:14</td>\n      <td>False</td>\n    </tr>\n    <tr>\n      <th>...</th>\n      <td>...</td>\n      <td>...</td>\n      <td>...</td>\n    </tr>\n    <tr>\n      <th>362874</th>\n      <td>2020-10-16</td>\n      <td>14:01:24</td>\n      <td>False</td>\n    </tr>\n    <tr>\n      <th>362875</th>\n      <td>2020-10-16</td>\n      <td>14:01:29</td>\n      <td>False</td>\n    </tr>\n    <tr>\n      <th>362876</th>\n      <td>2020-10-16</td>\n      <td>14:01:34</td>\n      <td>False</td>\n    </tr>\n    <tr>\n      <th>362877</th>\n      <td>2020-10-16</td>\n      <td>14:01:39</td>\n      <td>False</td>\n    </tr>\n    <tr>\n      <th>362878</th>\n      <td>2020-10-16</td>\n      <td>14:01:44</td>\n      <td>False</td>\n    </tr>\n  </tbody>\n</table>\n<p>362879 rows × 3 columns</p>\n</div>"
     },
     "metadata": {},
     "execution_count": 7
    }
   ],
   "source": [
    "import pandas as pd\n",
    "df1 = pd.read_csv('user_3_task1.log', sep=' ', engine='python')\n",
    "df1.columns = columns = ['date', 'time', 'is_online']\n",
    "df1"
   ]
  },
  {
   "source": [
    "Проведём преобразования этого датафрейма для наглядного построения графиков"
   ],
   "cell_type": "markdown",
   "metadata": {}
  },
  {
   "cell_type": "code",
   "execution_count": null,
   "metadata": {},
   "outputs": [],
   "source": [
    "new_df1 = pd.DataFrame()\n",
    "new_df1.columns.columns = ['date', 'time', 'is_online']\n",
    "count_true = 0\n",
    "count_false = 0\n",
    "for index in range(len(df1.index)):\n",
    "    if (df1.loc[index, 'is_online'] == True) and count_true < 2:\n",
    "        count_true += 1\n",
    "        new_df1.loc[-1] = {'date' : df.loc[index, \"date\"], 'time' : df.loc[index, \"time\"], 'is_online' : df.loc[index, \"is_online\"]}\n",
    "    if (df1.loc[index, 'is_online'] == False) and count_false < 2:\n",
    "        count_true += 1\n",
    "        new_df1.loc[-1] = {'date' : df.loc[index, \"date\"], 'time' : df.loc[index, \"time\"], 'is_online' : df.loc[index, \"is_online\"]}"
   ]
  },
  {
   "cell_type": "code",
   "execution_count": 30,
   "metadata": {},
   "outputs": [
    {
     "output_type": "execute_result",
     "data": {
      "text/plain": [
       "[<matplotlib.lines.Line2D at 0x226d1beaac8>]"
      ]
     },
     "metadata": {},
     "execution_count": 30
    }
   ],
   "source": [
    "import matplotlib.pyplot as plt\n",
    "fig, ax = plt.subplots(figsize=(25, 6))\n",
    "ax.set_xlabel(\"time\", fontsize=14, fontweight=\"bold\")        \n",
    "ax.set_ylabel(\"is online\", fontsize=14, fontweight=\"bold\")\n",
    "ax.grid()\n",
    "ax.set_xlim(auto=True)\n",
    "plt.xticks(rotation=90)\n",
    "for label in ax.xaxis.get_ticklabels()[1::100]: #указываем начальный тик и шаг\n",
    "# тиков, которые НЕ будут отображаться\n",
    "    label.set_visible(False)\n",
    "ax.plot(df1['date_time'], df1['is_online'])\n"
   ]
  },
  {
   "source": [
    "### График для данных из файла user_3_task2.csv"
   ],
   "cell_type": "markdown",
   "metadata": {}
  },
  {
   "source": [
    "Так выглядят данные user_3_task2.csv в dataframe"
   ],
   "cell_type": "markdown",
   "metadata": {}
  },
  {
   "cell_type": "code",
   "execution_count": 5,
   "metadata": {},
   "outputs": [
    {
     "output_type": "execute_result",
     "data": {
      "text/plain": [
       "48"
      ]
     },
     "metadata": {},
     "execution_count": 5
    }
   ],
   "source": [
    "import pandas as pd\n",
    "df2 = pd.read_csv('user_3_task2.csv', sep=',')\n",
    "df2.columns = ['date', 'time', 'is_online']\n",
    "# df2['date_time'] = df2['date'].str.cat(df2['time'], sep =\" \")\n",
    "# df2.drop(['date', 'time'], axis='columns', inplace=True)\n",
    "# df2 = df2[['date_time', 'is_online']]\n",
    "len(df2[df2['is_online'] == True])"
   ]
  },
  {
   "cell_type": "code",
   "execution_count": 14,
   "metadata": {},
   "outputs": [],
   "source": [
    "fig2, ax2 = plt.subplots(figsize=(25, 6))\n",
    "ax2.set_xlabel(\"time\", fontsize=14, fontweight=\"bold\")        \n",
    "ax2.set_ylabel(\"is online\", fontsize=14, fontweight=\"bold\")\n",
    "ax2.grid()\n",
    "ax2.set_xlim(auto=True)\n",
    "ax2.plot(df2['date_time'], df2['is_online'])"
   ]
  },
  {
   "cell_type": "code",
   "execution_count": null,
   "metadata": {},
   "outputs": [],
   "source": []
  }
 ]
}