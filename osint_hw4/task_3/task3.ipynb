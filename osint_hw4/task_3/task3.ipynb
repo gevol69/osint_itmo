{
 "metadata": {
  "language_info": {
   "codemirror_mode": {
    "name": "ipython",
    "version": 3
   },
   "file_extension": ".py",
   "mimetype": "text/x-python",
   "name": "python",
   "nbconvert_exporter": "python",
   "pygments_lexer": "ipython3",
   "version": "3.7.7-final"
  },
  "orig_nbformat": 2,
  "kernelspec": {
   "name": "python3",
   "display_name": "Python 3"
  }
 },
 "nbformat": 4,
 "nbformat_minor": 2,
 "cells": [
  {
   "source": [
    "## Строим графики для данных из первых двух тасков"
   ],
   "cell_type": "markdown",
   "metadata": {}
  },
  {
   "source": [
    "### График для данных из файла user_3_task1.log"
   ],
   "cell_type": "markdown",
   "metadata": {}
  },
  {
   "source": [
    "#### Так выглядят данные user_3_task1.log в dataframe"
   ],
   "cell_type": "markdown",
   "metadata": {}
  },
  {
   "cell_type": "code",
   "execution_count": 7,
   "metadata": {},
   "outputs": [
    {
     "output_type": "execute_result",
     "data": {
      "text/plain": [
       "              date      time  is_online\n",
       "0       2020-09-25  14:01:54      False\n",
       "1       2020-09-25  14:01:59      False\n",
       "2       2020-09-25  14:02:04      False\n",
       "3       2020-09-25  14:02:09      False\n",
       "4       2020-09-25  14:02:14      False\n",
       "...            ...       ...        ...\n",
       "362874  2020-10-16  14:01:24      False\n",
       "362875  2020-10-16  14:01:29      False\n",
       "362876  2020-10-16  14:01:34      False\n",
       "362877  2020-10-16  14:01:39      False\n",
       "362878  2020-10-16  14:01:44      False\n",
       "\n",
       "[362879 rows x 3 columns]"
      ],
      "text/html": "<div>\n<style scoped>\n    .dataframe tbody tr th:only-of-type {\n        vertical-align: middle;\n    }\n\n    .dataframe tbody tr th {\n        vertical-align: top;\n    }\n\n    .dataframe thead th {\n        text-align: right;\n    }\n</style>\n<table border=\"1\" class=\"dataframe\">\n  <thead>\n    <tr style=\"text-align: right;\">\n      <th></th>\n      <th>date</th>\n      <th>time</th>\n      <th>is_online</th>\n    </tr>\n  </thead>\n  <tbody>\n    <tr>\n      <th>0</th>\n      <td>2020-09-25</td>\n      <td>14:01:54</td>\n      <td>False</td>\n    </tr>\n    <tr>\n      <th>1</th>\n      <td>2020-09-25</td>\n      <td>14:01:59</td>\n      <td>False</td>\n    </tr>\n    <tr>\n      <th>2</th>\n      <td>2020-09-25</td>\n      <td>14:02:04</td>\n      <td>False</td>\n    </tr>\n    <tr>\n      <th>3</th>\n      <td>2020-09-25</td>\n      <td>14:02:09</td>\n      <td>False</td>\n    </tr>\n    <tr>\n      <th>4</th>\n      <td>2020-09-25</td>\n      <td>14:02:14</td>\n      <td>False</td>\n    </tr>\n    <tr>\n      <th>...</th>\n      <td>...</td>\n      <td>...</td>\n      <td>...</td>\n    </tr>\n    <tr>\n      <th>362874</th>\n      <td>2020-10-16</td>\n      <td>14:01:24</td>\n      <td>False</td>\n    </tr>\n    <tr>\n      <th>362875</th>\n      <td>2020-10-16</td>\n      <td>14:01:29</td>\n      <td>False</td>\n    </tr>\n    <tr>\n      <th>362876</th>\n      <td>2020-10-16</td>\n      <td>14:01:34</td>\n      <td>False</td>\n    </tr>\n    <tr>\n      <th>362877</th>\n      <td>2020-10-16</td>\n      <td>14:01:39</td>\n      <td>False</td>\n    </tr>\n    <tr>\n      <th>362878</th>\n      <td>2020-10-16</td>\n      <td>14:01:44</td>\n      <td>False</td>\n    </tr>\n  </tbody>\n</table>\n<p>362879 rows × 3 columns</p>\n</div>"
     },
     "metadata": {},
     "execution_count": 7
    }
   ],
   "source": [
    "import pandas as pd\n",
    "df1 = pd.read_csv('user_3_task1.log', sep=' ', engine='python')\n",
    "df1.columns = columns = ['date', 'time', 'is_online']\n",
    "df1"
   ]
  },
  {
   "source": [
    "В matplotlib графики на такие объемы данных строятся долго, попытался провести преобразования, но безрезультатно, поэтому построил графики в экселе в итоге"
   ],
   "cell_type": "markdown",
   "metadata": {}
  },
  {
   "source": [
    "![](https://image.prntscr.com/image/0rdr3UWUQ7mCXcacvRonKQ.png)"
   ],
   "cell_type": "markdown",
   "metadata": {}
  },
  {
   "source": [
    "### График для данных из файла user_3_task2.csv"
   ],
   "cell_type": "markdown",
   "metadata": {}
  },
  {
   "source": [
    "Так выглядят данные user_3_task2.csv в dataframe"
   ],
   "cell_type": "markdown",
   "metadata": {}
  },
  {
   "cell_type": "code",
   "execution_count": 28,
   "metadata": {},
   "outputs": [
    {
     "output_type": "execute_result",
     "data": {
      "text/plain": [
       "              date      time  is_online\n",
       "0       2020-10-10  12:53:39       True\n",
       "1       2020-10-10  12:53:44       True\n",
       "2       2020-10-10  12:53:49       True\n",
       "3       2020-10-10  12:53:54       True\n",
       "4       2020-10-10  12:53:59       True\n",
       "...            ...       ...        ...\n",
       "100964  2020-10-16  09:06:00       True\n",
       "100965  2020-10-16  09:06:05       True\n",
       "100966  2020-10-16  09:06:10       True\n",
       "100967  2020-10-16  09:06:15       True\n",
       "100968  2020-10-16  09:06:20       True\n",
       "\n",
       "[100969 rows x 3 columns]"
      ],
      "text/html": "<div>\n<style scoped>\n    .dataframe tbody tr th:only-of-type {\n        vertical-align: middle;\n    }\n\n    .dataframe tbody tr th {\n        vertical-align: top;\n    }\n\n    .dataframe thead th {\n        text-align: right;\n    }\n</style>\n<table border=\"1\" class=\"dataframe\">\n  <thead>\n    <tr style=\"text-align: right;\">\n      <th></th>\n      <th>date</th>\n      <th>time</th>\n      <th>is_online</th>\n    </tr>\n  </thead>\n  <tbody>\n    <tr>\n      <th>0</th>\n      <td>2020-10-10</td>\n      <td>12:53:39</td>\n      <td>True</td>\n    </tr>\n    <tr>\n      <th>1</th>\n      <td>2020-10-10</td>\n      <td>12:53:44</td>\n      <td>True</td>\n    </tr>\n    <tr>\n      <th>2</th>\n      <td>2020-10-10</td>\n      <td>12:53:49</td>\n      <td>True</td>\n    </tr>\n    <tr>\n      <th>3</th>\n      <td>2020-10-10</td>\n      <td>12:53:54</td>\n      <td>True</td>\n    </tr>\n    <tr>\n      <th>4</th>\n      <td>2020-10-10</td>\n      <td>12:53:59</td>\n      <td>True</td>\n    </tr>\n    <tr>\n      <th>...</th>\n      <td>...</td>\n      <td>...</td>\n      <td>...</td>\n    </tr>\n    <tr>\n      <th>100964</th>\n      <td>2020-10-16</td>\n      <td>09:06:00</td>\n      <td>True</td>\n    </tr>\n    <tr>\n      <th>100965</th>\n      <td>2020-10-16</td>\n      <td>09:06:05</td>\n      <td>True</td>\n    </tr>\n    <tr>\n      <th>100966</th>\n      <td>2020-10-16</td>\n      <td>09:06:10</td>\n      <td>True</td>\n    </tr>\n    <tr>\n      <th>100967</th>\n      <td>2020-10-16</td>\n      <td>09:06:15</td>\n      <td>True</td>\n    </tr>\n    <tr>\n      <th>100968</th>\n      <td>2020-10-16</td>\n      <td>09:06:20</td>\n      <td>True</td>\n    </tr>\n  </tbody>\n</table>\n<p>100969 rows × 3 columns</p>\n</div>"
     },
     "metadata": {},
     "execution_count": 28
    }
   ],
   "source": [
    "import pandas as pd\n",
    "df2 = pd.read_csv('user_3_task2.csv', sep=',')\n",
    "df2.columns = ['date', 'time', 'is_online']\n",
    "df2"
   ]
  },
  {
   "source": [
    "![](https://image.prntscr.com/image/r1bj0_8uQrqNz60MirGuTA.png)"
   ],
   "cell_type": "markdown",
   "metadata": {}
  }
 ]
}